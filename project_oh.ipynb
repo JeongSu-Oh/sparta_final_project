{
 "cells": [
  {
   "cell_type": "code",
   "execution_count": 1,
   "metadata": {},
   "outputs": [],
   "source": [
    "import pandas as pd"
   ]
  },
  {
   "cell_type": "code",
   "execution_count": 5,
   "metadata": {},
   "outputs": [],
   "source": [
    "path = 'C:/Users/user/Desktop/github/dataset/sparta_final_project_data/'"
   ]
  },
  {
   "cell_type": "code",
   "execution_count": 11,
   "metadata": {},
   "outputs": [],
   "source": [
    "sellers = pd.read_csv(path+'olist_sellers_dataset.csv')\n",
    "items = pd.read_csv(path+'olist_order_items_dataset.csv')\n",
    "products = pd.read_csv(path+'olist_products_dataset.csv')\n",
    "geolocation = pd.read_csv(path+'olist_geolocation_dataset.csv')\n",
    "customers = pd.read_csv(path+'olist_customers_dataset.csv')\n",
    "orders = pd.read_csv(path+'olist_orders_dataset.csv')\n",
    "payments = pd.read_csv(path+'olist_order_payments_dataset.csv')\n",
    "reviews = pd.read_csv(path+'olist_order_reviews_dataset.csv')"
   ]
  },
  {
   "cell_type": "code",
   "execution_count": null,
   "metadata": {},
   "outputs": [],
   "source": []
  }
 ],
 "metadata": {
  "kernelspec": {
   "display_name": "Python 3",
   "language": "python",
   "name": "python3"
  },
  "language_info": {
   "codemirror_mode": {
    "name": "ipython",
    "version": 3
   },
   "file_extension": ".py",
   "mimetype": "text/x-python",
   "name": "python",
   "nbconvert_exporter": "python",
   "pygments_lexer": "ipython3",
   "version": "3.11.5"
  }
 },
 "nbformat": 4,
 "nbformat_minor": 2
}
